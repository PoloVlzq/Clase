{
  "nbformat": 4,
  "nbformat_minor": 0,
  "metadata": {
    "colab": {
      "provenance": [],
      "authorship_tag": "ABX9TyMf/h8ktgCsIAsIepFrWWAw",
      "include_colab_link": true
    },
    "kernelspec": {
      "name": "python3",
      "display_name": "Python 3"
    },
    "language_info": {
      "name": "python"
    }
  },
  "cells": [
    {
      "cell_type": "markdown",
      "metadata": {
        "id": "view-in-github",
        "colab_type": "text"
      },
      "source": [
        "<a href=\"https://colab.research.google.com/github/PoloVlzq/Clase/blob/main/Inventario%20SimPy.ipynb\" target=\"_parent\"><img src=\"https://colab.research.google.com/assets/colab-badge.svg\" alt=\"Open In Colab\"/></a>"
      ]
    },
    {
      "cell_type": "code",
      "execution_count": 23,
      "metadata": {
        "colab": {
          "base_uri": "https://localhost:8080/",
          "height": 491
        },
        "id": "0YQMbwL_X55w",
        "outputId": "83761e55-b032-4d8a-c06c-84946602f082"
      },
      "outputs": [
        {
          "output_type": "stream",
          "name": "stdout",
          "text": [
            "Looking in indexes: https://pypi.org/simple, https://us-python.pkg.dev/colab-wheels/public/simple/\n",
            "Requirement already satisfied: simpy in /usr/local/lib/python3.10/dist-packages (4.0.1)\n"
          ]
        },
        {
          "output_type": "error",
          "ename": "ValueError",
          "evalue": "ignored",
          "traceback": [
            "\u001b[0;31m---------------------------------------------------------------------------\u001b[0m",
            "\u001b[0;31mValueError\u001b[0m                                Traceback (most recent call last)",
            "\u001b[0;32m<ipython-input-23-452c69e82763>\u001b[0m in \u001b[0;36mwarehouse_run\u001b[0;34m(env, order_cutoff, order_target)\u001b[0m\n\u001b[1;32m     18\u001b[0m       \u001b[0minventory\u001b[0m\u001b[0;34m-=\u001b[0m\u001b[0mdemand\u001b[0m\u001b[0;34m\u001b[0m\u001b[0;34m\u001b[0m\u001b[0m\n\u001b[0;32m---> 19\u001b[0;31m       \u001b[0mprint\u001b[0m\u001b[0;34m(\u001b[0m\u001b[0;34m'{:.f}sold{}'\u001b[0m\u001b[0;34m.\u001b[0m\u001b[0mformat\u001b[0m\u001b[0;34m(\u001b[0m\u001b[0menv\u001b[0m\u001b[0;34m.\u001b[0m\u001b[0mnow\u001b[0m\u001b[0;34m,\u001b[0m\u001b[0mdemand\u001b[0m\u001b[0;34m)\u001b[0m\u001b[0;34m)\u001b[0m\u001b[0;34m\u001b[0m\u001b[0;34m\u001b[0m\u001b[0m\n\u001b[0m\u001b[1;32m     20\u001b[0m     \u001b[0;32melse\u001b[0m\u001b[0;34m:\u001b[0m\u001b[0;34m\u001b[0m\u001b[0;34m\u001b[0m\u001b[0m\n",
            "\u001b[0;31mValueError\u001b[0m: Format specifier missing precision",
            "\nThe above exception was the direct cause of the following exception:\n",
            "\u001b[0;31mValueError\u001b[0m                                Traceback (most recent call last)",
            "\u001b[0;32m<ipython-input-23-452c69e82763>\u001b[0m in \u001b[0;36m<cell line: 61>\u001b[0;34m()\u001b[0m\n\u001b[1;32m     59\u001b[0m \u001b[0menv\u001b[0m\u001b[0;34m.\u001b[0m\u001b[0mprocess\u001b[0m\u001b[0;34m(\u001b[0m\u001b[0mobserve\u001b[0m\u001b[0;34m(\u001b[0m\u001b[0menv\u001b[0m\u001b[0;34m)\u001b[0m\u001b[0;34m)\u001b[0m\u001b[0;34m\u001b[0m\u001b[0;34m\u001b[0m\u001b[0m\n\u001b[1;32m     60\u001b[0m \u001b[0;34m\u001b[0m\u001b[0m\n\u001b[0;32m---> 61\u001b[0;31m \u001b[0menv\u001b[0m\u001b[0;34m.\u001b[0m\u001b[0mrun\u001b[0m\u001b[0;34m(\u001b[0m\u001b[0muntil\u001b[0m\u001b[0;34m=\u001b[0m\u001b[0;36m5.0\u001b[0m\u001b[0;34m)\u001b[0m\u001b[0;34m\u001b[0m\u001b[0;34m\u001b[0m\u001b[0m\n\u001b[0m\u001b[1;32m     62\u001b[0m \u001b[0;34m\u001b[0m\u001b[0m\n\u001b[1;32m     63\u001b[0m \u001b[0;32mimport\u001b[0m \u001b[0mmatplotlib\u001b[0m\u001b[0;34m.\u001b[0m\u001b[0mpyplot\u001b[0m \u001b[0;32mas\u001b[0m \u001b[0mplt\u001b[0m\u001b[0;34m\u001b[0m\u001b[0;34m\u001b[0m\u001b[0m\n",
            "\u001b[0;32m/usr/local/lib/python3.10/dist-packages/simpy/core.py\u001b[0m in \u001b[0;36mrun\u001b[0;34m(self, until)\u001b[0m\n\u001b[1;32m    252\u001b[0m         \u001b[0;32mtry\u001b[0m\u001b[0;34m:\u001b[0m\u001b[0;34m\u001b[0m\u001b[0;34m\u001b[0m\u001b[0m\n\u001b[1;32m    253\u001b[0m             \u001b[0;32mwhile\u001b[0m \u001b[0;32mTrue\u001b[0m\u001b[0;34m:\u001b[0m\u001b[0;34m\u001b[0m\u001b[0;34m\u001b[0m\u001b[0m\n\u001b[0;32m--> 254\u001b[0;31m                 \u001b[0mself\u001b[0m\u001b[0;34m.\u001b[0m\u001b[0mstep\u001b[0m\u001b[0;34m(\u001b[0m\u001b[0;34m)\u001b[0m\u001b[0;34m\u001b[0m\u001b[0;34m\u001b[0m\u001b[0m\n\u001b[0m\u001b[1;32m    255\u001b[0m         \u001b[0;32mexcept\u001b[0m \u001b[0mStopSimulation\u001b[0m \u001b[0;32mas\u001b[0m \u001b[0mexc\u001b[0m\u001b[0;34m:\u001b[0m\u001b[0;34m\u001b[0m\u001b[0;34m\u001b[0m\u001b[0m\n\u001b[1;32m    256\u001b[0m             \u001b[0;32mreturn\u001b[0m \u001b[0mexc\u001b[0m\u001b[0;34m.\u001b[0m\u001b[0margs\u001b[0m\u001b[0;34m[\u001b[0m\u001b[0;36m0\u001b[0m\u001b[0;34m]\u001b[0m  \u001b[0;31m# == until.value\u001b[0m\u001b[0;34m\u001b[0m\u001b[0;34m\u001b[0m\u001b[0m\n",
            "\u001b[0;32m/usr/local/lib/python3.10/dist-packages/simpy/core.py\u001b[0m in \u001b[0;36mstep\u001b[0;34m(self)\u001b[0m\n\u001b[1;32m    204\u001b[0m             \u001b[0mexc\u001b[0m \u001b[0;34m=\u001b[0m \u001b[0mtype\u001b[0m\u001b[0;34m(\u001b[0m\u001b[0mevent\u001b[0m\u001b[0;34m.\u001b[0m\u001b[0m_value\u001b[0m\u001b[0;34m)\u001b[0m\u001b[0;34m(\u001b[0m\u001b[0;34m*\u001b[0m\u001b[0mevent\u001b[0m\u001b[0;34m.\u001b[0m\u001b[0m_value\u001b[0m\u001b[0;34m.\u001b[0m\u001b[0margs\u001b[0m\u001b[0;34m)\u001b[0m\u001b[0;34m\u001b[0m\u001b[0;34m\u001b[0m\u001b[0m\n\u001b[1;32m    205\u001b[0m             \u001b[0mexc\u001b[0m\u001b[0;34m.\u001b[0m\u001b[0m__cause__\u001b[0m \u001b[0;34m=\u001b[0m \u001b[0mevent\u001b[0m\u001b[0;34m.\u001b[0m\u001b[0m_value\u001b[0m\u001b[0;34m\u001b[0m\u001b[0;34m\u001b[0m\u001b[0m\n\u001b[0;32m--> 206\u001b[0;31m             \u001b[0;32mraise\u001b[0m \u001b[0mexc\u001b[0m\u001b[0;34m\u001b[0m\u001b[0;34m\u001b[0m\u001b[0m\n\u001b[0m\u001b[1;32m    207\u001b[0m \u001b[0;34m\u001b[0m\u001b[0m\n\u001b[1;32m    208\u001b[0m     def run(\n",
            "\u001b[0;31mValueError\u001b[0m: Format specifier missing precision"
          ]
        }
      ],
      "source": [
        "\n",
        "#Instalamos el modulo simpy\n",
        "!pip install simpy\n",
        "#importamos Los modulos simpy y numpy\n",
        "import simpy\n",
        "import numpy as np\n",
        "#definimos la función warehouse que genera los valores iniciales\n",
        "def warehouse_run(env, order_cutoff, order_target):\n",
        "  global inventory , balance, num_ordered\n",
        "  inventory =order_target\n",
        "  balance=0.0\n",
        "  num_ordered=0\n",
        "#dentro del true en vez de un return se ocupa un yield para mantener el contexto\n",
        "#y entregar un valor sin finalizar, algo como pausar\n",
        "  while True:\n",
        "    interarrival=generate_interarrival()\n",
        "    yield env.timeout(interarrival)\n",
        "#al balance se le restara el valor del intervalo por el inventario por dos\n",
        "#y se asigna asi mismo ese valor\n",
        "    balance-=inventory*2*interarrival\n",
        "    demand=generate_demand()\n",
        "#si la demanda es menor que el inventario, a este se le suma 100 por la demanda\n",
        "    if demand < inventory:\n",
        "      balance+=100*demand\n",
        "#al inventario se le resta la demanda y se asigna este mismo valor\n",
        "      inventory-=demand\n",
        "#se imprime \"vendido\" con el formato especificado\n",
        "      print('{:.f}sold{}'.format(env.now,demand))\n",
        "#en caso contario donde la demanda es mayor o igual\n",
        "    else:\n",
        "#al balance se le suma 100 veces el inventario y se asigna ese valor asi mismo\n",
        "      balance += 100*inventory}\n",
        "#se termina el inventario\n",
        "      inventory = 0\n",
        "#imprimimos \"sin inventario\" con el formato denotado\n",
        "      print('{:.2f}sold{}(out of stock)'.format(env.now,inventory))\n",
        "#si el invetario es menor a la orden y no existen ordenes\n",
        "    if inventory < order_cutoff and num_ordered == 0:\n",
        "#ejecutamos funció\n",
        "      env.process(handle_order(env,order_target))\n",
        "\n",
        "#definimos la función \"solucionarlo\"\n",
        "def handle_order(env,order_target):\n",
        "  global inventory, balance, num_ordered\n",
        "#definimos el numero de ordenes como la cantidad menos el inventario\n",
        "  num_ordered = order_target - inventory\n",
        "#imprimimos el numero de orden\n",
        "  print('{:.2f}placed order for{}'.format(env.now, num_ordered))\n",
        "#al balance se le resta 50 veces el numero de ordenes\n",
        "  balance -= 50*num_ordered\n",
        "#pausamos la función y ademas entregamos valor\n",
        "  yield env.timeout(2.0)\n",
        "  inventory += num_ordered\n",
        "  num_ordered = 0\n",
        "#que orden se recivio y el inventario\n",
        "  print('{:.2f}received order, {}in inventory'.format(env.now, inventory))\n",
        "#defiinimos los intervalos con dsitribución exponencial\n",
        "def generate_interarrival():\n",
        "  return np.random.exponential(1./5)\n",
        "#generamos numero al azar entre 1 y 5\n",
        "def generate_demand():\n",
        "  return np.random.randint(1,5)\n",
        "#definimos lista de los tiempos observados y del nivel de inventario\n",
        "obs_time = []\n",
        "inventory_level = []\n",
        "#función para el invetario\n",
        "def observe(env):\n",
        "  global inventory\n",
        "#guardamos los valores del entorno e simulación\n",
        "  while True:\n",
        "    obs_time.append(env.now)\n",
        "    inventory_level.append(inventory)\n",
        "    yield env.timeout(0.1)\n",
        "#valor random con semilla 2\n",
        "np.random.seed(2)\n",
        "#definimos los valores env y su proceso\n",
        "env=simpy.Environment()\n",
        "env.process(warehouse_run(env,10,30))\n",
        "env.process(observe(env))\n",
        "#va a correr hasta el entorno de simualción sea iigual a 5\n",
        "env.run(until=5.0)\n",
        "\n",
        "#modulo para graficar\n",
        "import matplotlib.pyplot as plt\n",
        "#comandos para dibujar nuestras gráficas con titulos ademas\n",
        "plt.figure()\n",
        "plt.step(obs_time, inventory_level, where='post')\n",
        "plt.xlabel('Simulation time(days)')\n",
        "plt.ylabel('Inventory level')\n"
      ]
    }
  ]
}