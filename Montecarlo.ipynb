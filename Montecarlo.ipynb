{
  "nbformat": 4,
  "nbformat_minor": 0,
  "metadata": {
    "colab": {
      "provenance": [],
      "authorship_tag": "ABX9TyNc2JP/VFXSUCowk0l24oh6",
      "include_colab_link": true
    },
    "kernelspec": {
      "name": "python3",
      "display_name": "Python 3"
    },
    "language_info": {
      "name": "python"
    }
  },
  "cells": [
    {
      "cell_type": "markdown",
      "metadata": {
        "id": "view-in-github",
        "colab_type": "text"
      },
      "source": [
        "<a href=\"https://colab.research.google.com/github/PoloVlzq/Clase/blob/main/Montecarlo.ipynb\" target=\"_parent\"><img src=\"https://colab.research.google.com/assets/colab-badge.svg\" alt=\"Open In Colab\"/></a>"
      ]
    },
    {
      "cell_type": "code",
      "execution_count": 1,
      "metadata": {
        "id": "617NGPsbTlZ7",
        "outputId": "25e9ab5d-8468-4118-a0f1-573b3f5134c8",
        "colab": {
          "base_uri": "https://localhost:8080/"
        }
      },
      "outputs": [
        {
          "output_type": "stream",
          "name": "stdout",
          "text": [
            "0.6181138025610473\n"
          ]
        }
      ],
      "source": [
        "import numpy as np\n",
        "from random import random\n",
        "\n",
        "def f(x):\n",
        "  return np.sqrt(np.arctan(x))\n",
        "\n",
        "r = np.array([random()])\n",
        "n = 1000\n",
        "\n",
        "for i in range(n - 1):\n",
        "  r = np.append(r, random())\n",
        "\n",
        "theta = sum(f(r)) / n\n",
        "print(theta)"
      ]
    }
  ]
}